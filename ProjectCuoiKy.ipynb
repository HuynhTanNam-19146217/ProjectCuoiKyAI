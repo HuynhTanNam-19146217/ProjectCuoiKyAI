{
  "nbformat": 4,
  "nbformat_minor": 0,
  "metadata": {
    "colab": {
      "name": "ProjectCuoiKy.ipynb",
      "provenance": [],
      "collapsed_sections": [],
      "mount_file_id": "1Mr-Q5kV8CQc9S8AMiA7NW0LRWCv_7R8V",
      "authorship_tag": "ABX9TyPU1cdLYvJX/QnSeZp3wsw3",
      "include_colab_link": true
    },
    "kernelspec": {
      "name": "python3",
      "display_name": "Python 3"
    },
    "language_info": {
      "name": "python"
    }
  },
  "cells": [
    {
      "cell_type": "markdown",
      "metadata": {
        "id": "view-in-github",
        "colab_type": "text"
      },
      "source": [
        "<a href=\"https://colab.research.google.com/github/HuynhTanNam-19146217/ProjectCuoiKyAI/blob/Link-COLAB%26DRIVE/ProjectCuoiKy.ipynb\" target=\"_parent\"><img src=\"https://colab.research.google.com/assets/colab-badge.svg\" alt=\"Open In Colab\"/></a>"
      ]
    },
    {
      "cell_type": "code",
      "execution_count": null,
      "metadata": {
        "id": "EGWcmaid9-Qv"
      },
      "outputs": [],
      "source": [
        "from tensorflow.keras.preprocessing.image import ImageDataGenerator\n",
        "from tensorflow.keras.preprocessing import image\n",
        "from tensorflow.keras.optimizers import SGD, RMSprop\n",
        "from tensorflow.keras.utils import to_categorical\n",
        "import matplotlib.pyplot as plt\n",
        "from tensorflow.keras.models import load_model\n",
        "import tensorflow as  tf\n",
        "import numpy as np\n",
        "from keras.utils import np_utils\n",
        "from tensorflow.keras.callbacks import EarlyStopping\n",
        "from keras.models import Sequential\n",
        "from keras.layers import Dense,Flatten, Dropout\n",
        "from tensorflow.keras.utils import load_img\n",
        "from tensorflow.keras.utils import img_to_array\n",
        "from keras.layers import Conv2D, MaxPooling2D"
      ]
    },
    {
      "cell_type": "code",
      "source": [
        "train = ImageDataGenerator(rescale = 1./255,\n",
        "                                   shear_range = 0.2,\n",
        "                                   zoom_range = 0.2,\n",
        "                                   horizontal_flip = True)\n",
        "validation = ImageDataGenerator(rescale = 1./255)"
      ],
      "metadata": {
        "id": "RgJ50nCo-Iqg"
      },
      "execution_count": null,
      "outputs": []
    },
    {
      "cell_type": "code",
      "source": [
        "train_set=train.flow_from_directory('/content/drive/MyDrive/cuoikyAI/Train',target_size = (64,64),batch_size = 12,class_mode = 'categorical')\n",
        "test_set=validation.flow_from_directory('/content/drive/MyDrive/cuoikyAI/Validation',target_size = (64,64),batch_size = 12,class_mode = 'categorical')"
      ],
      "metadata": {
        "colab": {
          "base_uri": "https://localhost:8080/"
        },
        "id": "Js8lFlgJ-LBA",
        "outputId": "908a38b0-dfb5-4ea4-e8d1-3a771417afd5"
      },
      "execution_count": null,
      "outputs": [
        {
          "output_type": "stream",
          "name": "stdout",
          "text": [
            "Found 501 images belonging to 5 classes.\n",
            "Found 248 images belonging to 5 classes.\n"
          ]
        }
      ]
    },
    {
      "cell_type": "code",
      "source": [
        "train_set.class_indices"
      ],
      "metadata": {
        "colab": {
          "base_uri": "https://localhost:8080/"
        },
        "id": "Gvad-kV4-SC4",
        "outputId": "1925da11-044a-4d6f-b229-3b9959947594"
      },
      "execution_count": null,
      "outputs": [
        {
          "output_type": "execute_result",
          "data": {
            "text/plain": [
              "{'BuoiChum': 0,\n",
              " 'BuoiDaXanh': 1,\n",
              " 'BuoiDien': 2,\n",
              " 'BuoiDoLuanVan': 3,\n",
              " 'BuoiNamRoi': 4}"
            ]
          },
          "metadata": {},
          "execution_count": 4
        }
      ]
    },
    {
      "cell_type": "code",
      "source": [
        "model = tf.keras.models.Sequential(\n",
        "    [ tf.keras.layers.Conv2D(32,(3,3),activation = 'relu',kernel_initializer='he_uniform',padding='same',input_shape =(64,64,3)),\n",
        "      tf.keras.layers.Conv2D(32,(3,3),activation = 'relu',kernel_initializer='he_uniform',padding='same'),\n",
        "      tf.keras.layers.MaxPool2D(2,2),\n",
        "\n",
        "      tf.keras.layers.Conv2D(32,(3,3),activation = 'relu',kernel_initializer='he_uniform',padding='same'),\n",
        "      tf.keras.layers.Conv2D(32,(3,3),activation = 'relu',kernel_initializer='he_uniform',padding='same'),\n",
        "      tf.keras.layers.MaxPool2D(2,2),\n",
        "\n",
        "      tf.keras.layers.Conv2D(64,(3,3),activation = 'relu',kernel_initializer='he_uniform',padding='same'),\n",
        "      tf.keras.layers.Conv2D(64,(3,3),activation = 'relu',kernel_initializer='he_uniform',padding='same'),\n",
        "      tf.keras.layers.MaxPool2D(2,2),\n",
        "\n",
        "      tf.keras.layers.Conv2D(128,(3,3),activation = 'relu',kernel_initializer='he_uniform',padding='same'),\n",
        "      tf.keras.layers.Conv2D(128,(3,3),activation = 'relu',kernel_initializer='he_uniform',padding='same'),\n",
        "      tf.keras.layers.MaxPool2D(2,2),\n",
        "     \n",
        "      tf.keras.layers.Flatten(),\n",
        "      tf.keras.layers.Dense(256,activation = 'relu',kernel_initializer='he_uniform'),\n",
        "      tf.keras.layers.Dense(5,activation='softmax')])\n",
        "model.summary()"
      ],
      "metadata": {
        "colab": {
          "base_uri": "https://localhost:8080/"
        },
        "id": "Ull81-Vb21tq",
        "outputId": "3c2e3acd-8c18-4097-f6a7-cbe3520df0cd"
      },
      "execution_count": null,
      "outputs": [
        {
          "output_type": "stream",
          "name": "stdout",
          "text": [
            "Model: \"sequential\"\n",
            "_________________________________________________________________\n",
            " Layer (type)                Output Shape              Param #   \n",
            "=================================================================\n",
            " conv2d (Conv2D)             (None, 64, 64, 32)        896       \n",
            "                                                                 \n",
            " conv2d_1 (Conv2D)           (None, 64, 64, 32)        9248      \n",
            "                                                                 \n",
            " max_pooling2d (MaxPooling2D  (None, 32, 32, 32)       0         \n",
            " )                                                               \n",
            "                                                                 \n",
            " conv2d_2 (Conv2D)           (None, 32, 32, 32)        9248      \n",
            "                                                                 \n",
            " conv2d_3 (Conv2D)           (None, 32, 32, 32)        9248      \n",
            "                                                                 \n",
            " max_pooling2d_1 (MaxPooling  (None, 16, 16, 32)       0         \n",
            " 2D)                                                             \n",
            "                                                                 \n",
            " conv2d_4 (Conv2D)           (None, 16, 16, 64)        18496     \n",
            "                                                                 \n",
            " conv2d_5 (Conv2D)           (None, 16, 16, 64)        36928     \n",
            "                                                                 \n",
            " max_pooling2d_2 (MaxPooling  (None, 8, 8, 64)         0         \n",
            " 2D)                                                             \n",
            "                                                                 \n",
            " conv2d_6 (Conv2D)           (None, 8, 8, 128)         73856     \n",
            "                                                                 \n",
            " conv2d_7 (Conv2D)           (None, 8, 8, 128)         147584    \n",
            "                                                                 \n",
            " max_pooling2d_3 (MaxPooling  (None, 4, 4, 128)        0         \n",
            " 2D)                                                             \n",
            "                                                                 \n",
            " flatten (Flatten)           (None, 2048)              0         \n",
            "                                                                 \n",
            " dense (Dense)               (None, 256)               524544    \n",
            "                                                                 \n",
            " dense_1 (Dense)             (None, 5)                 1285      \n",
            "                                                                 \n",
            "=================================================================\n",
            "Total params: 831,333\n",
            "Trainable params: 831,333\n",
            "Non-trainable params: 0\n",
            "_________________________________________________________________\n"
          ]
        }
      ]
    },
    {
      "cell_type": "code",
      "source": [
        "opt = SGD(lr=0.001, momentum=0.9)\n",
        "model.compile(optimizer=opt, loss='categorical_crossentropy', metrics = ['accuracy'])"
      ],
      "metadata": {
        "colab": {
          "base_uri": "https://localhost:8080/"
        },
        "id": "yvwzLbU7-ZSA",
        "outputId": "a823d2eb-10e5-4d41-af11-921e202af30f"
      },
      "execution_count": null,
      "outputs": [
        {
          "output_type": "stream",
          "name": "stderr",
          "text": [
            "/usr/local/lib/python3.7/dist-packages/keras/optimizer_v2/gradient_descent.py:102: UserWarning: The `lr` argument is deprecated, use `learning_rate` instead.\n",
            "  super(SGD, self).__init__(name, **kwargs)\n"
          ]
        }
      ]
    },
    {
      "cell_type": "code",
      "source": [
        "history = model.fit(train_set,batch_size=64,epochs=20,verbose=1,validation_data=test_set)"
      ],
      "metadata": {
        "colab": {
          "base_uri": "https://localhost:8080/"
        },
        "id": "LrH7jc87-d_I",
        "outputId": "8af1c935-1a4c-44cd-e44a-636c59128a05"
      },
      "execution_count": null,
      "outputs": [
        {
          "output_type": "stream",
          "name": "stdout",
          "text": [
            "Epoch 1/20\n",
            "42/42 [==============================] - 14s 331ms/step - loss: 0.2260 - accuracy: 0.9261 - val_loss: 0.1928 - val_accuracy: 0.9435\n",
            "Epoch 2/20\n",
            "42/42 [==============================] - 14s 331ms/step - loss: 0.0700 - accuracy: 0.9840 - val_loss: 0.1995 - val_accuracy: 0.9355\n",
            "Epoch 3/20\n",
            "42/42 [==============================] - 14s 332ms/step - loss: 0.2225 - accuracy: 0.9202 - val_loss: 0.1358 - val_accuracy: 0.9597\n",
            "Epoch 4/20\n",
            "42/42 [==============================] - 14s 330ms/step - loss: 0.1213 - accuracy: 0.9641 - val_loss: 0.2737 - val_accuracy: 0.9153\n",
            "Epoch 5/20\n",
            "42/42 [==============================] - 14s 333ms/step - loss: 0.0493 - accuracy: 0.9840 - val_loss: 0.1277 - val_accuracy: 0.9556\n",
            "Epoch 6/20\n",
            "42/42 [==============================] - 14s 331ms/step - loss: 0.0643 - accuracy: 0.9760 - val_loss: 0.2095 - val_accuracy: 0.9637\n",
            "Epoch 7/20\n",
            "42/42 [==============================] - 14s 334ms/step - loss: 0.0646 - accuracy: 0.9741 - val_loss: 0.2074 - val_accuracy: 0.9395\n",
            "Epoch 8/20\n",
            "42/42 [==============================] - 14s 331ms/step - loss: 0.0609 - accuracy: 0.9780 - val_loss: 0.2373 - val_accuracy: 0.9476\n",
            "Epoch 9/20\n",
            "42/42 [==============================] - 14s 331ms/step - loss: 0.1416 - accuracy: 0.9541 - val_loss: 0.2240 - val_accuracy: 0.9315\n",
            "Epoch 10/20\n",
            "42/42 [==============================] - 14s 334ms/step - loss: 0.1587 - accuracy: 0.9461 - val_loss: 0.2016 - val_accuracy: 0.9395\n",
            "Epoch 11/20\n",
            "42/42 [==============================] - 14s 332ms/step - loss: 0.0631 - accuracy: 0.9800 - val_loss: 0.3697 - val_accuracy: 0.9355\n",
            "Epoch 12/20\n",
            "42/42 [==============================] - 14s 331ms/step - loss: 0.0608 - accuracy: 0.9760 - val_loss: 0.1393 - val_accuracy: 0.9718\n",
            "Epoch 13/20\n",
            "42/42 [==============================] - 14s 331ms/step - loss: 0.0451 - accuracy: 0.9880 - val_loss: 0.2379 - val_accuracy: 0.9476\n",
            "Epoch 14/20\n",
            "42/42 [==============================] - 14s 333ms/step - loss: 0.0566 - accuracy: 0.9860 - val_loss: 0.3967 - val_accuracy: 0.9274\n",
            "Epoch 15/20\n",
            "42/42 [==============================] - 14s 329ms/step - loss: 0.0308 - accuracy: 0.9920 - val_loss: 0.1775 - val_accuracy: 0.9395\n",
            "Epoch 16/20\n",
            "42/42 [==============================] - 14s 334ms/step - loss: 0.1641 - accuracy: 0.9541 - val_loss: 0.0692 - val_accuracy: 0.9839\n",
            "Epoch 17/20\n",
            "42/42 [==============================] - 14s 331ms/step - loss: 0.0779 - accuracy: 0.9721 - val_loss: 0.1702 - val_accuracy: 0.9637\n",
            "Epoch 18/20\n",
            "42/42 [==============================] - 14s 329ms/step - loss: 0.1273 - accuracy: 0.9541 - val_loss: 0.0974 - val_accuracy: 0.9556\n",
            "Epoch 19/20\n",
            "42/42 [==============================] - 16s 381ms/step - loss: 0.0531 - accuracy: 0.9820 - val_loss: 0.2924 - val_accuracy: 0.9435\n",
            "Epoch 20/20\n",
            "42/42 [==============================] - 14s 336ms/step - loss: 0.0257 - accuracy: 0.9920 - val_loss: 0.1902 - val_accuracy: 0.9476\n"
          ]
        }
      ]
    },
    {
      "cell_type": "code",
      "source": [
        "plt.plot(history.history['accuracy'])\n",
        "plt.plot(history.history['val_accuracy'])\n",
        "plt.title('Model Accuracy')\n",
        "plt.ylabel('accuracy')\n",
        "plt.xlabel('epoch')\n",
        "plt.legend(['Train','validation'],loc='upper left')\n",
        "plt.show()"
      ],
      "metadata": {
        "colab": {
          "base_uri": "https://localhost:8080/",
          "height": 295
        },
        "id": "Yj-yQT58Axjg",
        "outputId": "2303e6f3-2b6e-4e27-93c7-e67df15f94a1"
      },
      "execution_count": null,
      "outputs": [
        {
          "output_type": "display_data",
          "data": {
            "text/plain": [
              "<Figure size 432x288 with 1 Axes>"
            ],
            "image/png": "[encoded data removed]"
          },
          "metadata": {
            "needs_background": "light"
          }
        }
      ]
    },
    {
      "cell_type": "code",
      "source": [
        "score=model.evaluate(test_set,verbose=1)\n",
        "print('Sai số: ',score[0])\n",
        "print('Độ chính xác: ',score[1])"
      ],
      "metadata": {
        "colab": {
          "base_uri": "https://localhost:8080/"
        },
        "id": "OUWixWY7A1Tx",
        "outputId": "5fbba7dd-dcad-4b33-92d6-260e958c23ae"
      },
      "execution_count": null,
      "outputs": [
        {
          "output_type": "stream",
          "name": "stdout",
          "text": [
            "21/21 [==============================] - 2s 99ms/step - loss: 0.1902 - accuracy: 0.9476\n",
            "Sai số:  0.1902187615633011\n",
            "Độ chính xác:  0.9475806355476379\n"
          ]
        }
      ]
    },
    {
      "cell_type": "code",
      "source": [
        "model.save('PhanLoaiBuoi.h5')"
      ],
      "metadata": {
        "id": "XOwITXpKpBxW"
      },
      "execution_count": null,
      "outputs": []
    },
    {
      "cell_type": "code",
      "source": [
        "from tensorflow.keras.models import load_model\n",
        "model1=load_model('PhanLoaiBuoi.h5')"
      ],
      "metadata": {
        "id": "4SQ8ER1WpGGv"
      },
      "execution_count": null,
      "outputs": []
    },
    {
      "cell_type": "code",
      "source": [
        "test_img=load_img('/content/drive/MyDrive/cuoikyAI/Test/BuoiDaXanh/BuoiDaXanh (15).png',target_size=(64,64))\n",
        "plt.imshow(test_img)\n",
        "test_img= img_to_array(test_img)\n",
        "test_img=test_img/255\n",
        "test_img=np.expand_dims(test_img,axis=0)\n",
        "result=model.predict(test_img)\n",
        "if round(result[0][0])==1:\n",
        "  prediction=\"Bưởi Chùm\"\n",
        "elif round(result[0][1])==1:\n",
        "  prediction=\"Bưởi Da Xanh\"\n",
        "elif round(result[0][2])==1:\n",
        "  prediction=\"Bưởi Diễn\"\n",
        "elif round(result[0][3])==1:\n",
        "  prediction=\"Bưởi Đỏ Luận Văn\"  \n",
        "elif round(result[0][4])==1:\n",
        "  prediction=\"Bưởi Năm Roi\" \n",
        "print('Dự đoán:', prediction)"
      ],
      "metadata": {
        "colab": {
          "base_uri": "https://localhost:8080/",
          "height": 286
        },
        "id": "Zul8HpW0pGqI",
        "outputId": "02e2bd6c-9aa2-4e94-9d3c-e4e69deb5cbb"
      },
      "execution_count": null,
      "outputs": [
        {
          "output_type": "stream",
          "name": "stdout",
          "text": [
            "Dự đoán: Bưởi Da Xanh\n"
          ]
        },
        {
          "output_type": "display_data",
          "data": {
            "text/plain": [
              "<Figure size 432x288 with 1 Axes>"
            ],
            "image/png": "[encoded data removed]"
          },
          "metadata": {
            "needs_background": "light"
          }
        }
      ]
    }
  ]
}